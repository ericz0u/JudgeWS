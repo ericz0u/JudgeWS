{
  "cells": [
    {
      "cell_type": "markdown",
      "id": "954e61ed-b3b3-4445-af90-19046f6c1da2",
      "metadata": {
        "id": "954e61ed-b3b3-4445-af90-19046f6c1da2"
      },
      "source": [
        "# Sub Question Query Engine\n",
        "In this tutorial, we showcase how to use a **sub question query engine** to tackle the problem of answering a complex query using multiple data sources.  \n",
        "It first breaks down the complex query into sub questions for each relevant data source,\n",
        "then gather all the intermediate reponses and synthesizes a final response."
      ]
    },
    {
      "cell_type": "markdown",
      "id": "75ac0675-cde6-49ae-bfb3-4c43e6c4a718",
      "metadata": {
        "id": "75ac0675-cde6-49ae-bfb3-4c43e6c4a718"
      },
      "source": [
        "### Preparation"
      ]
    },
    {
      "cell_type": "markdown",
      "id": "a005a37e",
      "metadata": {
        "id": "a005a37e"
      },
      "source": [
        "If you're opening this Notebook on colab, you will probably need to install LlamaIndex 🦙."
      ]
    },
    {
      "cell_type": "code",
      "execution_count": 3,
      "id": "2b740633",
      "metadata": {
        "id": "2b740633",
        "colab": {
          "base_uri": "https://localhost:8080/"
        },
        "outputId": "d329e3f5-d6cc-4f5b-f790-c2c5a843c500"
      },
      "outputs": [
        {
          "output_type": "stream",
          "name": "stdout",
          "text": [
            "Requirement already satisfied: llama-index in /usr/local/lib/python3.10/dist-packages (0.10.44)\n",
            "Requirement already satisfied: llama-index-agent-openai<0.3.0,>=0.1.4 in /usr/local/lib/python3.10/dist-packages (from llama-index) (0.2.7)\n",
            "Requirement already satisfied: llama-index-cli<0.2.0,>=0.1.2 in /usr/local/lib/python3.10/dist-packages (from llama-index) (0.1.12)\n",
            "Requirement already satisfied: llama-index-core==0.10.44 in /usr/local/lib/python3.10/dist-packages (from llama-index) (0.10.44)\n",
            "Requirement already satisfied: llama-index-embeddings-openai<0.2.0,>=0.1.5 in /usr/local/lib/python3.10/dist-packages (from llama-index) (0.1.10)\n",
            "Requirement already satisfied: llama-index-indices-managed-llama-cloud<0.2.0,>=0.1.2 in /usr/local/lib/python3.10/dist-packages (from llama-index) (0.1.6)\n",
            "Requirement already satisfied: llama-index-legacy<0.10.0,>=0.9.48 in /usr/local/lib/python3.10/dist-packages (from llama-index) (0.9.48)\n",
            "Requirement already satisfied: llama-index-llms-openai<0.2.0,>=0.1.13 in /usr/local/lib/python3.10/dist-packages (from llama-index) (0.1.22)\n",
            "Requirement already satisfied: llama-index-multi-modal-llms-openai<0.2.0,>=0.1.3 in /usr/local/lib/python3.10/dist-packages (from llama-index) (0.1.6)\n",
            "Requirement already satisfied: llama-index-program-openai<0.2.0,>=0.1.3 in /usr/local/lib/python3.10/dist-packages (from llama-index) (0.1.6)\n",
            "Requirement already satisfied: llama-index-question-gen-openai<0.2.0,>=0.1.2 in /usr/local/lib/python3.10/dist-packages (from llama-index) (0.1.3)\n",
            "Requirement already satisfied: llama-index-readers-file<0.2.0,>=0.1.4 in /usr/local/lib/python3.10/dist-packages (from llama-index) (0.1.23)\n",
            "Requirement already satisfied: llama-index-readers-llama-parse<0.2.0,>=0.1.2 in /usr/local/lib/python3.10/dist-packages (from llama-index) (0.1.4)\n",
            "Requirement already satisfied: PyYAML>=6.0.1 in /usr/local/lib/python3.10/dist-packages (from llama-index-core==0.10.44->llama-index) (6.0.1)\n",
            "Requirement already satisfied: SQLAlchemy[asyncio]>=1.4.49 in /usr/local/lib/python3.10/dist-packages (from llama-index-core==0.10.44->llama-index) (2.0.30)\n",
            "Requirement already satisfied: aiohttp<4.0.0,>=3.8.6 in /usr/local/lib/python3.10/dist-packages (from llama-index-core==0.10.44->llama-index) (3.9.5)\n",
            "Requirement already satisfied: dataclasses-json in /usr/local/lib/python3.10/dist-packages (from llama-index-core==0.10.44->llama-index) (0.6.7)\n",
            "Requirement already satisfied: deprecated>=1.2.9.3 in /usr/local/lib/python3.10/dist-packages (from llama-index-core==0.10.44->llama-index) (1.2.14)\n",
            "Requirement already satisfied: dirtyjson<2.0.0,>=1.0.8 in /usr/local/lib/python3.10/dist-packages (from llama-index-core==0.10.44->llama-index) (1.0.8)\n",
            "Requirement already satisfied: fsspec>=2023.5.0 in /usr/local/lib/python3.10/dist-packages (from llama-index-core==0.10.44->llama-index) (2023.6.0)\n",
            "Requirement already satisfied: httpx in /usr/local/lib/python3.10/dist-packages (from llama-index-core==0.10.44->llama-index) (0.27.0)\n",
            "Requirement already satisfied: llamaindex-py-client<0.2.0,>=0.1.18 in /usr/local/lib/python3.10/dist-packages (from llama-index-core==0.10.44->llama-index) (0.1.19)\n",
            "Requirement already satisfied: nest-asyncio<2.0.0,>=1.5.8 in /usr/local/lib/python3.10/dist-packages (from llama-index-core==0.10.44->llama-index) (1.6.0)\n",
            "Requirement already satisfied: networkx>=3.0 in /usr/local/lib/python3.10/dist-packages (from llama-index-core==0.10.44->llama-index) (3.3)\n",
            "Requirement already satisfied: nltk<4.0.0,>=3.8.1 in /usr/local/lib/python3.10/dist-packages (from llama-index-core==0.10.44->llama-index) (3.8.1)\n",
            "Requirement already satisfied: numpy in /usr/local/lib/python3.10/dist-packages (from llama-index-core==0.10.44->llama-index) (1.25.2)\n",
            "Requirement already satisfied: openai>=1.1.0 in /usr/local/lib/python3.10/dist-packages (from llama-index-core==0.10.44->llama-index) (1.33.0)\n",
            "Requirement already satisfied: pandas in /usr/local/lib/python3.10/dist-packages (from llama-index-core==0.10.44->llama-index) (2.0.3)\n",
            "Requirement already satisfied: pillow>=9.0.0 in /usr/local/lib/python3.10/dist-packages (from llama-index-core==0.10.44->llama-index) (9.4.0)\n",
            "Requirement already satisfied: requests>=2.31.0 in /usr/local/lib/python3.10/dist-packages (from llama-index-core==0.10.44->llama-index) (2.31.0)\n",
            "Requirement already satisfied: tenacity<9.0.0,>=8.2.0 in /usr/local/lib/python3.10/dist-packages (from llama-index-core==0.10.44->llama-index) (8.3.0)\n",
            "Requirement already satisfied: tiktoken>=0.3.3 in /usr/local/lib/python3.10/dist-packages (from llama-index-core==0.10.44->llama-index) (0.7.0)\n",
            "Requirement already satisfied: tqdm<5.0.0,>=4.66.1 in /usr/local/lib/python3.10/dist-packages (from llama-index-core==0.10.44->llama-index) (4.66.4)\n",
            "Requirement already satisfied: typing-extensions>=4.5.0 in /usr/local/lib/python3.10/dist-packages (from llama-index-core==0.10.44->llama-index) (4.12.1)\n",
            "Requirement already satisfied: typing-inspect>=0.8.0 in /usr/local/lib/python3.10/dist-packages (from llama-index-core==0.10.44->llama-index) (0.9.0)\n",
            "Requirement already satisfied: wrapt in /usr/local/lib/python3.10/dist-packages (from llama-index-core==0.10.44->llama-index) (1.14.1)\n",
            "Requirement already satisfied: beautifulsoup4<5.0.0,>=4.12.3 in /usr/local/lib/python3.10/dist-packages (from llama-index-readers-file<0.2.0,>=0.1.4->llama-index) (4.12.3)\n",
            "Requirement already satisfied: pypdf<5.0.0,>=4.0.1 in /usr/local/lib/python3.10/dist-packages (from llama-index-readers-file<0.2.0,>=0.1.4->llama-index) (4.2.0)\n",
            "Requirement already satisfied: striprtf<0.0.27,>=0.0.26 in /usr/local/lib/python3.10/dist-packages (from llama-index-readers-file<0.2.0,>=0.1.4->llama-index) (0.0.26)\n",
            "Requirement already satisfied: llama-parse<0.5.0,>=0.4.0 in /usr/local/lib/python3.10/dist-packages (from llama-index-readers-llama-parse<0.2.0,>=0.1.2->llama-index) (0.4.4)\n",
            "Requirement already satisfied: aiosignal>=1.1.2 in /usr/local/lib/python3.10/dist-packages (from aiohttp<4.0.0,>=3.8.6->llama-index-core==0.10.44->llama-index) (1.3.1)\n",
            "Requirement already satisfied: attrs>=17.3.0 in /usr/local/lib/python3.10/dist-packages (from aiohttp<4.0.0,>=3.8.6->llama-index-core==0.10.44->llama-index) (23.2.0)\n",
            "Requirement already satisfied: frozenlist>=1.1.1 in /usr/local/lib/python3.10/dist-packages (from aiohttp<4.0.0,>=3.8.6->llama-index-core==0.10.44->llama-index) (1.4.1)\n",
            "Requirement already satisfied: multidict<7.0,>=4.5 in /usr/local/lib/python3.10/dist-packages (from aiohttp<4.0.0,>=3.8.6->llama-index-core==0.10.44->llama-index) (6.0.5)\n",
            "Requirement already satisfied: yarl<2.0,>=1.0 in /usr/local/lib/python3.10/dist-packages (from aiohttp<4.0.0,>=3.8.6->llama-index-core==0.10.44->llama-index) (1.9.4)\n",
            "Requirement already satisfied: async-timeout<5.0,>=4.0 in /usr/local/lib/python3.10/dist-packages (from aiohttp<4.0.0,>=3.8.6->llama-index-core==0.10.44->llama-index) (4.0.3)\n",
            "Requirement already satisfied: soupsieve>1.2 in /usr/local/lib/python3.10/dist-packages (from beautifulsoup4<5.0.0,>=4.12.3->llama-index-readers-file<0.2.0,>=0.1.4->llama-index) (2.5)\n",
            "Requirement already satisfied: pydantic>=1.10 in /usr/local/lib/python3.10/dist-packages (from llamaindex-py-client<0.2.0,>=0.1.18->llama-index-core==0.10.44->llama-index) (2.7.3)\n",
            "Requirement already satisfied: anyio in /usr/local/lib/python3.10/dist-packages (from httpx->llama-index-core==0.10.44->llama-index) (3.7.1)\n",
            "Requirement already satisfied: certifi in /usr/local/lib/python3.10/dist-packages (from httpx->llama-index-core==0.10.44->llama-index) (2024.6.2)\n",
            "Requirement already satisfied: httpcore==1.* in /usr/local/lib/python3.10/dist-packages (from httpx->llama-index-core==0.10.44->llama-index) (1.0.5)\n",
            "Requirement already satisfied: idna in /usr/local/lib/python3.10/dist-packages (from httpx->llama-index-core==0.10.44->llama-index) (3.7)\n",
            "Requirement already satisfied: sniffio in /usr/local/lib/python3.10/dist-packages (from httpx->llama-index-core==0.10.44->llama-index) (1.3.1)\n",
            "Requirement already satisfied: h11<0.15,>=0.13 in /usr/local/lib/python3.10/dist-packages (from httpcore==1.*->httpx->llama-index-core==0.10.44->llama-index) (0.14.0)\n",
            "Requirement already satisfied: click in /usr/local/lib/python3.10/dist-packages (from nltk<4.0.0,>=3.8.1->llama-index-core==0.10.44->llama-index) (8.1.7)\n",
            "Requirement already satisfied: joblib in /usr/local/lib/python3.10/dist-packages (from nltk<4.0.0,>=3.8.1->llama-index-core==0.10.44->llama-index) (1.4.2)\n",
            "Requirement already satisfied: regex>=2021.8.3 in /usr/local/lib/python3.10/dist-packages (from nltk<4.0.0,>=3.8.1->llama-index-core==0.10.44->llama-index) (2024.5.15)\n",
            "Requirement already satisfied: distro<2,>=1.7.0 in /usr/lib/python3/dist-packages (from openai>=1.1.0->llama-index-core==0.10.44->llama-index) (1.7.0)\n",
            "Requirement already satisfied: charset-normalizer<4,>=2 in /usr/local/lib/python3.10/dist-packages (from requests>=2.31.0->llama-index-core==0.10.44->llama-index) (3.3.2)\n",
            "Requirement already satisfied: urllib3<3,>=1.21.1 in /usr/local/lib/python3.10/dist-packages (from requests>=2.31.0->llama-index-core==0.10.44->llama-index) (2.0.7)\n",
            "Requirement already satisfied: greenlet!=0.4.17 in /usr/local/lib/python3.10/dist-packages (from SQLAlchemy[asyncio]>=1.4.49->llama-index-core==0.10.44->llama-index) (3.0.3)\n",
            "Requirement already satisfied: mypy-extensions>=0.3.0 in /usr/local/lib/python3.10/dist-packages (from typing-inspect>=0.8.0->llama-index-core==0.10.44->llama-index) (1.0.0)\n",
            "Requirement already satisfied: marshmallow<4.0.0,>=3.18.0 in /usr/local/lib/python3.10/dist-packages (from dataclasses-json->llama-index-core==0.10.44->llama-index) (3.21.3)\n",
            "Requirement already satisfied: python-dateutil>=2.8.2 in /usr/local/lib/python3.10/dist-packages (from pandas->llama-index-core==0.10.44->llama-index) (2.8.2)\n",
            "Requirement already satisfied: pytz>=2020.1 in /usr/local/lib/python3.10/dist-packages (from pandas->llama-index-core==0.10.44->llama-index) (2023.4)\n",
            "Requirement already satisfied: tzdata>=2022.1 in /usr/local/lib/python3.10/dist-packages (from pandas->llama-index-core==0.10.44->llama-index) (2024.1)\n",
            "Requirement already satisfied: exceptiongroup in /usr/local/lib/python3.10/dist-packages (from anyio->httpx->llama-index-core==0.10.44->llama-index) (1.2.1)\n",
            "Requirement already satisfied: packaging>=17.0 in /usr/local/lib/python3.10/dist-packages (from marshmallow<4.0.0,>=3.18.0->dataclasses-json->llama-index-core==0.10.44->llama-index) (24.0)\n",
            "Requirement already satisfied: annotated-types>=0.4.0 in /usr/local/lib/python3.10/dist-packages (from pydantic>=1.10->llamaindex-py-client<0.2.0,>=0.1.18->llama-index-core==0.10.44->llama-index) (0.7.0)\n",
            "Requirement already satisfied: pydantic-core==2.18.4 in /usr/local/lib/python3.10/dist-packages (from pydantic>=1.10->llamaindex-py-client<0.2.0,>=0.1.18->llama-index-core==0.10.44->llama-index) (2.18.4)\n",
            "Requirement already satisfied: six>=1.5 in /usr/local/lib/python3.10/dist-packages (from python-dateutil>=2.8.2->pandas->llama-index-core==0.10.44->llama-index) (1.16.0)\n"
          ]
        }
      ],
      "source": [
        "!pip install llama-index"
      ]
    },
    {
      "cell_type": "code",
      "execution_count": 36,
      "id": "4d97d35f",
      "metadata": {
        "id": "4d97d35f"
      },
      "outputs": [],
      "source": [
        "import os\n",
        "#REMOVE KEY\n",
        "os.environ[\"OPENAI_API_KEY\"] = \"\"\n",
        "\n",
        "import nest_asyncio\n",
        "\n",
        "nest_asyncio.apply()"
      ]
    },
    {
      "cell_type": "code",
      "execution_count": 4,
      "id": "c3675b87-4d08-4f59-a971-48bf67c66ad0",
      "metadata": {
        "id": "c3675b87-4d08-4f59-a971-48bf67c66ad0"
      },
      "outputs": [],
      "source": [
        "from llama_index.core import VectorStoreIndex, SimpleDirectoryReader\n",
        "from llama_index.core.tools import QueryEngineTool, ToolMetadata\n",
        "from llama_index.core.query_engine import SubQuestionQueryEngine\n",
        "from llama_index.core.callbacks import CallbackManager, LlamaDebugHandler\n",
        "from llama_index.core import Settings"
      ]
    },
    {
      "cell_type": "code",
      "execution_count": 7,
      "id": "2b95fb5b",
      "metadata": {
        "id": "2b95fb5b"
      },
      "outputs": [],
      "source": [
        "# Using the LlamaDebugHandler to print the trace of the sub questions\n",
        "# captured by the SUB_QUESTION callback event type\n",
        "llama_debug = LlamaDebugHandler(print_trace_on_end=True)\n",
        "callback_manager = CallbackManager([llama_debug])\n",
        "\n",
        "Settings.callback_manager = callback_manager"
      ]
    },
    {
      "cell_type": "code",
      "source": [
        "!unzip /content/WeissRules.zip"
      ],
      "metadata": {
        "colab": {
          "base_uri": "https://localhost:8080/"
        },
        "id": "_r7UwjzawCMB",
        "outputId": "07351c89-7be2-41e4-8b8a-1d1d6c715d0e"
      },
      "id": "_r7UwjzawCMB",
      "execution_count": 8,
      "outputs": [
        {
          "output_type": "stream",
          "name": "stdout",
          "text": [
            "Archive:  /content/WeissRules.zip\n",
            "  inflating: Weiss Rules/Hololive Set 1 Cards HOL-xxx.txt  \n",
            "  inflating: Weiss Rules/Official Comprehensive Rules.txt  \n",
            "  inflating: Weiss Rules/Weissplaining 10 Encore The Step vs. The Keyword Ability.txt  \n",
            "  inflating: Weiss Rules/Weissplaining 8 Do Things Stack.txt  \n",
            "  inflating: Weiss Rules/Weissplaining 9Few Cards Left in Deck, Now What.txt  \n",
            "  inflating: Weiss Rules/Weissplaining1 Playing vs. Placing On Stage.txt  \n",
            "  inflating: Weiss Rules/Weissplaining2 The Resolution Zone.txt  \n",
            "  inflating: Weiss Rules/Weissplaining3 Check Timing, Play Timing & Rule Actions.txt  \n",
            "  inflating: Weiss Rules/Weissplaining4 Double Losses in Weiss aka Ifrit at Level 3.txt  \n",
            "  inflating: Weiss Rules/Weissplaining5  Why Counters And Backups Arent The Same Thing.txt  \n",
            "  inflating: Weiss Rules/Weissplaining6 Multiple AUTO Abilities Activating At The Same Time.txt  \n",
            "  inflating: Weiss Rules/Weissplaining7 Reveal vs. Flip Over vs. Look At.txt  \n",
            "  inflating: Weiss Rules/WTT1.txt    \n"
          ]
        }
      ]
    },
    {
      "cell_type": "code",
      "execution_count": 9,
      "id": "22b8b519-dd95-4dfb-9cdc-cb0004852036",
      "metadata": {
        "id": "22b8b519-dd95-4dfb-9cdc-cb0004852036",
        "outputId": "f48d730e-2b72-4942-e7fc-7638abc83d2f",
        "colab": {
          "base_uri": "https://localhost:8080/"
        }
      },
      "outputs": [
        {
          "output_type": "stream",
          "name": "stdout",
          "text": [
            "**********\n",
            "Trace: index_construction\n",
            "    |_node_parsing -> 0.330148 seconds\n",
            "      |_chunking -> 0.144634 seconds\n",
            "      |_chunking -> 0.079674 seconds\n",
            "      |_chunking -> 0.004007 seconds\n",
            "      |_chunking -> 0.007886 seconds\n",
            "      |_chunking -> 0.004859 seconds\n",
            "      |_chunking -> 0.013984 seconds\n",
            "      |_chunking -> 0.003175 seconds\n",
            "      |_chunking -> 0.003454 seconds\n",
            "      |_chunking -> 0.007782 seconds\n",
            "      |_chunking -> 0.000719 seconds\n",
            "      |_chunking -> 0.006689 seconds\n",
            "      |_chunking -> 0.009687 seconds\n",
            "      |_chunking -> 0.004501 seconds\n",
            "    |_embedding -> 1.974869 seconds\n",
            "    |_embedding -> 2.189581 seconds\n",
            "**********\n"
          ]
        }
      ],
      "source": [
        "# load data\n",
        "humberviewbook = SimpleDirectoryReader(input_dir=\"./WeissRules/\").load_data()\n",
        "\n",
        "# build index and query engine\n",
        "vector_query_engine = VectorStoreIndex.from_documents(\n",
        "    humberviewbook,\n",
        "    use_async=True,\n",
        ").as_query_engine()"
      ]
    },
    {
      "cell_type": "markdown",
      "id": "484cb516-6692-4d07-9bd8-93941909b459",
      "metadata": {
        "id": "484cb516-6692-4d07-9bd8-93941909b459"
      },
      "source": [
        "### Setup sub question query engine"
      ]
    },
    {
      "cell_type": "code",
      "execution_count": 10,
      "id": "dbff0cbd-9a1a-4acc-9870-03d05640125c",
      "metadata": {
        "id": "dbff0cbd-9a1a-4acc-9870-03d05640125c"
      },
      "outputs": [],
      "source": [
        "# setup base query engine as tool\n",
        "query_engine_tools = [\n",
        "    QueryEngineTool(\n",
        "        query_engine=vector_query_engine,\n",
        "        metadata=ToolMetadata(\n",
        "            name=\"JudgeBot\",\n",
        "            description=\"Provides ruling help on the TCG Weiss Schwarz.\",\n",
        "        ),\n",
        "    ),\n",
        "]\n",
        "\n",
        "query_engine = SubQuestionQueryEngine.from_defaults(\n",
        "    query_engine_tools=query_engine_tools,\n",
        "    use_async=True,\n",
        ")"
      ]
    },
    {
      "cell_type": "markdown",
      "id": "eeea8e15-78ab-4f72-a380-1a76bb5d5737",
      "metadata": {
        "id": "eeea8e15-78ab-4f72-a380-1a76bb5d5737"
      },
      "source": [
        "### Run queries"
      ]
    },
    {
      "cell_type": "code",
      "execution_count": 35,
      "id": "a576ce5e-a6d1-470d-be51-84fbb31b4aa2",
      "metadata": {
        "id": "a576ce5e-a6d1-470d-be51-84fbb31b4aa2",
        "outputId": "6bbaac7a-f42b-4bd5-b70b-5ad7fe977f95",
        "colab": {
          "base_uri": "https://localhost:8080/"
        }
      },
      "outputs": [
        {
          "output_type": "stream",
          "name": "stdout",
          "text": [
            "Generated 1 sub questions.\n",
            "\u001b[1;3;38;2;237;90;200m[JudgeBot] Q: Which player resolves their on reverse effect first when two cards are reversed at the same time?\n",
            "\u001b[0m\u001b[1;3;38;2;237;90;200m[JudgeBot] A: The player whose turn it is gets to choose which of the two abilities to resolve first when two cards are reversed at the same time.\n",
            "\u001b[0m**********\n",
            "Trace: query\n",
            "    |_query -> 2.931244 seconds\n",
            "      |_llm -> 0.944674 seconds\n",
            "      |_sub_question -> 1.087131 seconds\n",
            "        |_query -> 1.085904 seconds\n",
            "          |_retrieve -> 0.153857 seconds\n",
            "            |_embedding -> 0.120302 seconds\n",
            "          |_synthesize -> 0.930972 seconds\n",
            "            |_templating -> 4.6e-05 seconds\n",
            "            |_llm -> 0.914411 seconds\n",
            "      |_synthesize -> 0.894826 seconds\n",
            "        |_templating -> 2.7e-05 seconds\n",
            "        |_llm -> 0.890879 seconds\n",
            "**********\n"
          ]
        }
      ],
      "source": [
        "response = query_engine.query(\n",
        "\n",
        "    \"You are a judge for the card game Weiss Schawrz. Questions will be about the game's rules and how situations are resolved. Please be as specific as possible. Question: If two cards are reversed at the same time and they both have on reverse effects, which player resolves their on reverse effect first?\"\n",
        ")"
      ]
    },
    {
      "cell_type": "code",
      "execution_count": 31,
      "id": "222d16a7-089a-4de0-b551-fcd785f3eb26",
      "metadata": {
        "id": "222d16a7-089a-4de0-b551-fcd785f3eb26",
        "outputId": "cbfdb44f-d4a1-4a4a-91d8-b055ead868e0",
        "colab": {
          "base_uri": "https://localhost:8080/"
        }
      },
      "outputs": [
        {
          "output_type": "stream",
          "name": "stdout",
          "text": [
            "Layer resolves its on-reverse effect first when two cards are reversed at the same time.\n"
          ]
        }
      ],
      "source": [
        "print(response)"
      ]
    },
    {
      "cell_type": "code",
      "execution_count": 29,
      "id": "fc38e65a",
      "metadata": {
        "id": "fc38e65a",
        "outputId": "17a553ff-8e7f-46e6-848d-8332cc06d794",
        "colab": {
          "base_uri": "https://localhost:8080/"
        }
      },
      "outputs": [
        {
          "output_type": "stream",
          "name": "stdout",
          "text": [
            "Sub Question 0: What are the key strategies for winning in TCG Weiss Schwarz?\n",
            "Answer: Understanding the card interactions, mastering the game mechanics, and building a well-balanced deck are key strategies for winning in TCG Weiss Schwarz. Additionally, being familiar with the rules, knowing how to effectively use card abilities, and adapting your gameplay based on the situation are important aspects to consider for success in the game.\n",
            "====================================\n",
            "Sub Question 1: What are the win conditions in TCG Weiss Schwarz?\n",
            "Answer: If any player fulfills any losing conditions, that player loses the game by rule action the next time rule actions are performed. Winning conditions in TCG Weiss Schwarz include having the opponent lose while you do not, or winning or losing the game by a card effect during resolution.\n",
            "====================================\n",
            "Sub Question 2: What is the rule number for brainstorming in TCG Weiss Schwarz?\n",
            "Answer: Rule number for brainstorming in TCG Weiss Schwarz is Section 8.\n",
            "====================================\n",
            "Sub Question 3: What are the rules for resolving a brainstorm ability in TCG Weiss Schwarz?\n",
            "Answer: When cards are put into the resolution zone by a Brainstorm ability in TCG Weiss Schwarz, they are initially placed in the resolution zone temporarily before being moved to the owner's waiting room. The resolution zone is a public zone where all cards are placed face up, allowing all players to view the information and order of the cards. However, players are not permitted to alter the order of cards in the resolution zone. Cards put into this zone are stacked on top of those already present.\n",
            "====================================\n",
            "Sub Question 4: What are the win conditions in TCG Weiss Schwarz?\n",
            "Answer: If any player fulfills any losing conditions, that player loses the game by rule action the next time rule actions are performed. If a player has four or more cards in their level or if a player has zero cards in their deck and waiting room, they fulfill a losing condition. If any player loses, the game ends immediately. If your opponent loses and you do not, you win the game. Players may also win or lose the game by a card effect, in which case the game ends without proceeding to a check timing.\n",
            "====================================\n",
            "Sub Question 5: What happens to the last four cards revealed by a Brainstorm ability in Weiss Schwarz when you refresh the deck?\n",
            "Answer: The last four cards revealed by a Brainstorm ability in Weiss Schwarz move to the Waiting Room when you refresh the deck.\n",
            "====================================\n",
            "Sub Question 6: How does JudgeBot determine the resolution order of on-reverse effects when two cards are reversed at the same time?\n",
            "Answer: JudgeBot determines the resolution order of on-reverse effects when two cards are reversed at the same time based on the fundamental order of the continuous abilities belonging to the characters in their current stage positions.\n",
            "====================================\n",
            "Sub Question 7: Which player resolves their on reverse effect first when two cards are reversed at the same time?\n",
            "Answer: The player whose turn it is resolves their on-reverse effect first when two cards are reversed at the same time.\n",
            "====================================\n",
            "Sub Question 8: How does Weiss Schwarz handle resolving on-reverse effects when two cards are reversed at the same time?\n",
            "Answer: Weiss Schwarz allows the turn player to choose the order in which the abilities of the two reversed cards are resolved. The turn player can decide which card's ability to resolve first, whether it involves sending a card to clock, stock, or any other zone. Once the turn player resolves their abilities, the other player then proceeds to resolve their card's abilities accordingly. This system ensures that both cards' on-reverse effects can be fully resolved in a fair and structured manner.\n",
            "====================================\n"
          ]
        }
      ],
      "source": [
        "# iterate through sub_question items captured in SUB_QUESTION event\n",
        "from llama_index.core.callbacks import CBEventType, EventPayload\n",
        "\n",
        "for i, (start_event, end_event) in enumerate(\n",
        "    llama_debug.get_event_pairs(CBEventType.SUB_QUESTION)\n",
        "):\n",
        "    qa_pair = end_event.payload[EventPayload.SUB_QUESTION]\n",
        "    print(\"Sub Question \" + str(i) + \": \" + qa_pair.sub_q.sub_question.strip())\n",
        "    print(\"Answer: \" + qa_pair.answer.strip())\n",
        "    print(\"====================================\")"
      ]
    },
    {
      "cell_type": "code",
      "source": [],
      "metadata": {
        "id": "wGmx37lbwxSd"
      },
      "id": "wGmx37lbwxSd",
      "execution_count": null,
      "outputs": []
    }
  ],
  "metadata": {
    "kernelspec": {
      "display_name": "Python 3 (ipykernel)",
      "language": "python",
      "name": "python3"
    },
    "language_info": {
      "codemirror_mode": {
        "name": "ipython",
        "version": 3
      },
      "file_extension": ".py",
      "mimetype": "text/x-python",
      "name": "python",
      "nbconvert_exporter": "python",
      "pygments_lexer": "ipython3"
    },
    "colab": {
      "provenance": []
    }
  },
  "nbformat": 4,
  "nbformat_minor": 5
}