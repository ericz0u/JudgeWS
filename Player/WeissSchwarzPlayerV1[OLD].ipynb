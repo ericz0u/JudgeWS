{
  "cells": [
    {
      "cell_type": "markdown",
      "id": "954e61ed-b3b3-4445-af90-19046f6c1da2",
      "metadata": {
        "id": "954e61ed-b3b3-4445-af90-19046f6c1da2"
      },
      "source": [
        "# Sub Question Query Engine\n",
        "In this tutorial, we showcase how to use a **sub question query engine** to tackle the problem of answering a complex query using multiple data sources.  \n",
        "It first breaks down the complex query into sub questions for each relevant data source,\n",
        "then gather all the intermediate reponses and synthesizes a final response."
      ]
    },
    {
      "cell_type": "markdown",
      "id": "75ac0675-cde6-49ae-bfb3-4c43e6c4a718",
      "metadata": {
        "id": "75ac0675-cde6-49ae-bfb3-4c43e6c4a718"
      },
      "source": [
        "### Preparation"
      ]
    },
    {
      "cell_type": "markdown",
      "id": "a005a37e",
      "metadata": {
        "id": "a005a37e"
      },
      "source": [
        "If you're opening this Notebook on colab, you will probably need to install LlamaIndex 🦙."
      ]
    },
    {
      "cell_type": "code",
      "execution_count": 2,
      "id": "2b740633",
      "metadata": {
        "id": "2b740633",
        "colab": {
          "base_uri": "https://localhost:8080/"
        },
        "outputId": "4c60f9ad-8190-44fa-a460-189a88f95707"
      },
      "outputs": [
        {
          "output_type": "stream",
          "name": "stdout",
          "text": [
            "Collecting llama-index\n",
            "  Downloading llama_index-0.10.44-py3-none-any.whl (6.8 kB)\n",
            "Collecting llama-index-agent-openai<0.3.0,>=0.1.4 (from llama-index)\n",
            "  Downloading llama_index_agent_openai-0.2.7-py3-none-any.whl (12 kB)\n",
            "Collecting llama-index-cli<0.2.0,>=0.1.2 (from llama-index)\n",
            "  Downloading llama_index_cli-0.1.12-py3-none-any.whl (26 kB)\n",
            "Collecting llama-index-core==0.10.44 (from llama-index)\n",
            "  Downloading llama_index_core-0.10.44-py3-none-any.whl (15.4 MB)\n",
            "\u001b[2K     \u001b[90m━━━━━━━━━━━━━━━━━━━━━━━━━━━━━━━━━━━━━━━━\u001b[0m \u001b[32m15.4/15.4 MB\u001b[0m \u001b[31m35.3 MB/s\u001b[0m eta \u001b[36m0:00:00\u001b[0m\n",
            "\u001b[?25hCollecting llama-index-embeddings-openai<0.2.0,>=0.1.5 (from llama-index)\n",
            "  Downloading llama_index_embeddings_openai-0.1.10-py3-none-any.whl (6.2 kB)\n",
            "Collecting llama-index-indices-managed-llama-cloud<0.2.0,>=0.1.2 (from llama-index)\n",
            "  Downloading llama_index_indices_managed_llama_cloud-0.1.6-py3-none-any.whl (6.7 kB)\n",
            "Collecting llama-index-legacy<0.10.0,>=0.9.48 (from llama-index)\n",
            "  Downloading llama_index_legacy-0.9.48-py3-none-any.whl (2.0 MB)\n",
            "\u001b[2K     \u001b[90m━━━━━━━━━━━━━━━━━━━━━━━━━━━━━━━━━━━━━━━━\u001b[0m \u001b[32m2.0/2.0 MB\u001b[0m \u001b[31m63.1 MB/s\u001b[0m eta \u001b[36m0:00:00\u001b[0m\n",
            "\u001b[?25hCollecting llama-index-llms-openai<0.2.0,>=0.1.13 (from llama-index)\n",
            "  Downloading llama_index_llms_openai-0.1.22-py3-none-any.whl (11 kB)\n",
            "Collecting llama-index-multi-modal-llms-openai<0.2.0,>=0.1.3 (from llama-index)\n",
            "  Downloading llama_index_multi_modal_llms_openai-0.1.6-py3-none-any.whl (5.8 kB)\n",
            "Collecting llama-index-program-openai<0.2.0,>=0.1.3 (from llama-index)\n",
            "  Downloading llama_index_program_openai-0.1.6-py3-none-any.whl (5.2 kB)\n",
            "Collecting llama-index-question-gen-openai<0.2.0,>=0.1.2 (from llama-index)\n",
            "  Downloading llama_index_question_gen_openai-0.1.3-py3-none-any.whl (2.9 kB)\n",
            "Collecting llama-index-readers-file<0.2.0,>=0.1.4 (from llama-index)\n",
            "  Downloading llama_index_readers_file-0.1.25-py3-none-any.whl (37 kB)\n",
            "Collecting llama-index-readers-llama-parse<0.2.0,>=0.1.2 (from llama-index)\n",
            "  Downloading llama_index_readers_llama_parse-0.1.4-py3-none-any.whl (2.5 kB)\n",
            "Requirement already satisfied: PyYAML>=6.0.1 in /usr/local/lib/python3.10/dist-packages (from llama-index-core==0.10.44->llama-index) (6.0.1)\n",
            "Requirement already satisfied: SQLAlchemy[asyncio]>=1.4.49 in /usr/local/lib/python3.10/dist-packages (from llama-index-core==0.10.44->llama-index) (2.0.30)\n",
            "Requirement already satisfied: aiohttp<4.0.0,>=3.8.6 in /usr/local/lib/python3.10/dist-packages (from llama-index-core==0.10.44->llama-index) (3.9.5)\n",
            "Collecting dataclasses-json (from llama-index-core==0.10.44->llama-index)\n",
            "  Downloading dataclasses_json-0.6.7-py3-none-any.whl (28 kB)\n",
            "Collecting deprecated>=1.2.9.3 (from llama-index-core==0.10.44->llama-index)\n",
            "  Downloading Deprecated-1.2.14-py2.py3-none-any.whl (9.6 kB)\n",
            "Collecting dirtyjson<2.0.0,>=1.0.8 (from llama-index-core==0.10.44->llama-index)\n",
            "  Downloading dirtyjson-1.0.8-py3-none-any.whl (25 kB)\n",
            "Requirement already satisfied: fsspec>=2023.5.0 in /usr/local/lib/python3.10/dist-packages (from llama-index-core==0.10.44->llama-index) (2023.6.0)\n",
            "Collecting httpx (from llama-index-core==0.10.44->llama-index)\n",
            "  Downloading httpx-0.27.0-py3-none-any.whl (75 kB)\n",
            "\u001b[2K     \u001b[90m━━━━━━━━━━━━━━━━━━━━━━━━━━━━━━━━━━━━━━━━\u001b[0m \u001b[32m75.6/75.6 kB\u001b[0m \u001b[31m6.7 MB/s\u001b[0m eta \u001b[36m0:00:00\u001b[0m\n",
            "\u001b[?25hCollecting llamaindex-py-client<0.2.0,>=0.1.18 (from llama-index-core==0.10.44->llama-index)\n",
            "  Downloading llamaindex_py_client-0.1.19-py3-none-any.whl (141 kB)\n",
            "\u001b[2K     \u001b[90m━━━━━━━━━━━━━━━━━━━━━━━━━━━━━━━━━━━━━━━━\u001b[0m \u001b[32m141.9/141.9 kB\u001b[0m \u001b[31m3.0 MB/s\u001b[0m eta \u001b[36m0:00:00\u001b[0m\n",
            "\u001b[?25hRequirement already satisfied: nest-asyncio<2.0.0,>=1.5.8 in /usr/local/lib/python3.10/dist-packages (from llama-index-core==0.10.44->llama-index) (1.6.0)\n",
            "Requirement already satisfied: networkx>=3.0 in /usr/local/lib/python3.10/dist-packages (from llama-index-core==0.10.44->llama-index) (3.3)\n",
            "Requirement already satisfied: nltk<4.0.0,>=3.8.1 in /usr/local/lib/python3.10/dist-packages (from llama-index-core==0.10.44->llama-index) (3.8.1)\n",
            "Requirement already satisfied: numpy in /usr/local/lib/python3.10/dist-packages (from llama-index-core==0.10.44->llama-index) (1.25.2)\n",
            "Collecting openai>=1.1.0 (from llama-index-core==0.10.44->llama-index)\n",
            "  Downloading openai-1.34.0-py3-none-any.whl (325 kB)\n",
            "\u001b[2K     \u001b[90m━━━━━━━━━━━━━━━━━━━━━━━━━━━━━━━━━━━━━━━━\u001b[0m \u001b[32m325.5/325.5 kB\u001b[0m \u001b[31m23.3 MB/s\u001b[0m eta \u001b[36m0:00:00\u001b[0m\n",
            "\u001b[?25hRequirement already satisfied: pandas in /usr/local/lib/python3.10/dist-packages (from llama-index-core==0.10.44->llama-index) (2.0.3)\n",
            "Requirement already satisfied: pillow>=9.0.0 in /usr/local/lib/python3.10/dist-packages (from llama-index-core==0.10.44->llama-index) (9.4.0)\n",
            "Requirement already satisfied: requests>=2.31.0 in /usr/local/lib/python3.10/dist-packages (from llama-index-core==0.10.44->llama-index) (2.31.0)\n",
            "Requirement already satisfied: tenacity<9.0.0,>=8.2.0 in /usr/local/lib/python3.10/dist-packages (from llama-index-core==0.10.44->llama-index) (8.3.0)\n",
            "Collecting tiktoken>=0.3.3 (from llama-index-core==0.10.44->llama-index)\n",
            "  Downloading tiktoken-0.7.0-cp310-cp310-manylinux_2_17_x86_64.manylinux2014_x86_64.whl (1.1 MB)\n",
            "\u001b[2K     \u001b[90m━━━━━━━━━━━━━━━━━━━━━━━━━━━━━━━━━━━━━━━━\u001b[0m \u001b[32m1.1/1.1 MB\u001b[0m \u001b[31m42.8 MB/s\u001b[0m eta \u001b[36m0:00:00\u001b[0m\n",
            "\u001b[?25hRequirement already satisfied: tqdm<5.0.0,>=4.66.1 in /usr/local/lib/python3.10/dist-packages (from llama-index-core==0.10.44->llama-index) (4.66.4)\n",
            "Requirement already satisfied: typing-extensions>=4.5.0 in /usr/local/lib/python3.10/dist-packages (from llama-index-core==0.10.44->llama-index) (4.12.2)\n",
            "Collecting typing-inspect>=0.8.0 (from llama-index-core==0.10.44->llama-index)\n",
            "  Downloading typing_inspect-0.9.0-py3-none-any.whl (8.8 kB)\n",
            "Requirement already satisfied: wrapt in /usr/local/lib/python3.10/dist-packages (from llama-index-core==0.10.44->llama-index) (1.14.1)\n",
            "Requirement already satisfied: beautifulsoup4<5.0.0,>=4.12.3 in /usr/local/lib/python3.10/dist-packages (from llama-index-readers-file<0.2.0,>=0.1.4->llama-index) (4.12.3)\n",
            "Collecting pypdf<5.0.0,>=4.0.1 (from llama-index-readers-file<0.2.0,>=0.1.4->llama-index)\n",
            "  Downloading pypdf-4.2.0-py3-none-any.whl (290 kB)\n",
            "\u001b[2K     \u001b[90m━━━━━━━━━━━━━━━━━━━━━━━━━━━━━━━━━━━━━━━━\u001b[0m \u001b[32m290.4/290.4 kB\u001b[0m \u001b[31m22.0 MB/s\u001b[0m eta \u001b[36m0:00:00\u001b[0m\n",
            "\u001b[?25hCollecting striprtf<0.0.27,>=0.0.26 (from llama-index-readers-file<0.2.0,>=0.1.4->llama-index)\n",
            "  Downloading striprtf-0.0.26-py3-none-any.whl (6.9 kB)\n",
            "Collecting llama-parse<0.5.0,>=0.4.0 (from llama-index-readers-llama-parse<0.2.0,>=0.1.2->llama-index)\n",
            "  Downloading llama_parse-0.4.4-py3-none-any.whl (8.0 kB)\n",
            "Requirement already satisfied: aiosignal>=1.1.2 in /usr/local/lib/python3.10/dist-packages (from aiohttp<4.0.0,>=3.8.6->llama-index-core==0.10.44->llama-index) (1.3.1)\n",
            "Requirement already satisfied: attrs>=17.3.0 in /usr/local/lib/python3.10/dist-packages (from aiohttp<4.0.0,>=3.8.6->llama-index-core==0.10.44->llama-index) (23.2.0)\n",
            "Requirement already satisfied: frozenlist>=1.1.1 in /usr/local/lib/python3.10/dist-packages (from aiohttp<4.0.0,>=3.8.6->llama-index-core==0.10.44->llama-index) (1.4.1)\n",
            "Requirement already satisfied: multidict<7.0,>=4.5 in /usr/local/lib/python3.10/dist-packages (from aiohttp<4.0.0,>=3.8.6->llama-index-core==0.10.44->llama-index) (6.0.5)\n",
            "Requirement already satisfied: yarl<2.0,>=1.0 in /usr/local/lib/python3.10/dist-packages (from aiohttp<4.0.0,>=3.8.6->llama-index-core==0.10.44->llama-index) (1.9.4)\n",
            "Requirement already satisfied: async-timeout<5.0,>=4.0 in /usr/local/lib/python3.10/dist-packages (from aiohttp<4.0.0,>=3.8.6->llama-index-core==0.10.44->llama-index) (4.0.3)\n",
            "Requirement already satisfied: soupsieve>1.2 in /usr/local/lib/python3.10/dist-packages (from beautifulsoup4<5.0.0,>=4.12.3->llama-index-readers-file<0.2.0,>=0.1.4->llama-index) (2.5)\n",
            "Requirement already satisfied: pydantic>=1.10 in /usr/local/lib/python3.10/dist-packages (from llamaindex-py-client<0.2.0,>=0.1.18->llama-index-core==0.10.44->llama-index) (2.7.3)\n",
            "Requirement already satisfied: anyio in /usr/local/lib/python3.10/dist-packages (from httpx->llama-index-core==0.10.44->llama-index) (3.7.1)\n",
            "Requirement already satisfied: certifi in /usr/local/lib/python3.10/dist-packages (from httpx->llama-index-core==0.10.44->llama-index) (2024.6.2)\n",
            "Collecting httpcore==1.* (from httpx->llama-index-core==0.10.44->llama-index)\n",
            "  Downloading httpcore-1.0.5-py3-none-any.whl (77 kB)\n",
            "\u001b[2K     \u001b[90m━━━━━━━━━━━━━━━━━━━━━━━━━━━━━━━━━━━━━━━━\u001b[0m \u001b[32m77.9/77.9 kB\u001b[0m \u001b[31m6.9 MB/s\u001b[0m eta \u001b[36m0:00:00\u001b[0m\n",
            "\u001b[?25hRequirement already satisfied: idna in /usr/local/lib/python3.10/dist-packages (from httpx->llama-index-core==0.10.44->llama-index) (3.7)\n",
            "Requirement already satisfied: sniffio in /usr/local/lib/python3.10/dist-packages (from httpx->llama-index-core==0.10.44->llama-index) (1.3.1)\n",
            "Collecting h11<0.15,>=0.13 (from httpcore==1.*->httpx->llama-index-core==0.10.44->llama-index)\n",
            "  Downloading h11-0.14.0-py3-none-any.whl (58 kB)\n",
            "\u001b[2K     \u001b[90m━━━━━━━━━━━━━━━━━━━━━━━━━━━━━━━━━━━━━━━━\u001b[0m \u001b[32m58.3/58.3 kB\u001b[0m \u001b[31m5.5 MB/s\u001b[0m eta \u001b[36m0:00:00\u001b[0m\n",
            "\u001b[?25hRequirement already satisfied: click in /usr/local/lib/python3.10/dist-packages (from nltk<4.0.0,>=3.8.1->llama-index-core==0.10.44->llama-index) (8.1.7)\n",
            "Requirement already satisfied: joblib in /usr/local/lib/python3.10/dist-packages (from nltk<4.0.0,>=3.8.1->llama-index-core==0.10.44->llama-index) (1.4.2)\n",
            "Requirement already satisfied: regex>=2021.8.3 in /usr/local/lib/python3.10/dist-packages (from nltk<4.0.0,>=3.8.1->llama-index-core==0.10.44->llama-index) (2024.5.15)\n",
            "Requirement already satisfied: distro<2,>=1.7.0 in /usr/lib/python3/dist-packages (from openai>=1.1.0->llama-index-core==0.10.44->llama-index) (1.7.0)\n",
            "Requirement already satisfied: charset-normalizer<4,>=2 in /usr/local/lib/python3.10/dist-packages (from requests>=2.31.0->llama-index-core==0.10.44->llama-index) (3.3.2)\n",
            "Requirement already satisfied: urllib3<3,>=1.21.1 in /usr/local/lib/python3.10/dist-packages (from requests>=2.31.0->llama-index-core==0.10.44->llama-index) (2.0.7)\n",
            "Requirement already satisfied: greenlet!=0.4.17 in /usr/local/lib/python3.10/dist-packages (from SQLAlchemy[asyncio]>=1.4.49->llama-index-core==0.10.44->llama-index) (3.0.3)\n",
            "Collecting mypy-extensions>=0.3.0 (from typing-inspect>=0.8.0->llama-index-core==0.10.44->llama-index)\n",
            "  Downloading mypy_extensions-1.0.0-py3-none-any.whl (4.7 kB)\n",
            "Collecting marshmallow<4.0.0,>=3.18.0 (from dataclasses-json->llama-index-core==0.10.44->llama-index)\n",
            "  Downloading marshmallow-3.21.3-py3-none-any.whl (49 kB)\n",
            "\u001b[2K     \u001b[90m━━━━━━━━━━━━━━━━━━━━━━━━━━━━━━━━━━━━━━━━\u001b[0m \u001b[32m49.2/49.2 kB\u001b[0m \u001b[31m5.0 MB/s\u001b[0m eta \u001b[36m0:00:00\u001b[0m\n",
            "\u001b[?25hRequirement already satisfied: python-dateutil>=2.8.2 in /usr/local/lib/python3.10/dist-packages (from pandas->llama-index-core==0.10.44->llama-index) (2.8.2)\n",
            "Requirement already satisfied: pytz>=2020.1 in /usr/local/lib/python3.10/dist-packages (from pandas->llama-index-core==0.10.44->llama-index) (2023.4)\n",
            "Requirement already satisfied: tzdata>=2022.1 in /usr/local/lib/python3.10/dist-packages (from pandas->llama-index-core==0.10.44->llama-index) (2024.1)\n",
            "Requirement already satisfied: exceptiongroup in /usr/local/lib/python3.10/dist-packages (from anyio->httpx->llama-index-core==0.10.44->llama-index) (1.2.1)\n",
            "Requirement already satisfied: packaging>=17.0 in /usr/local/lib/python3.10/dist-packages (from marshmallow<4.0.0,>=3.18.0->dataclasses-json->llama-index-core==0.10.44->llama-index) (24.1)\n",
            "Requirement already satisfied: annotated-types>=0.4.0 in /usr/local/lib/python3.10/dist-packages (from pydantic>=1.10->llamaindex-py-client<0.2.0,>=0.1.18->llama-index-core==0.10.44->llama-index) (0.7.0)\n",
            "Requirement already satisfied: pydantic-core==2.18.4 in /usr/local/lib/python3.10/dist-packages (from pydantic>=1.10->llamaindex-py-client<0.2.0,>=0.1.18->llama-index-core==0.10.44->llama-index) (2.18.4)\n",
            "Requirement already satisfied: six>=1.5 in /usr/local/lib/python3.10/dist-packages (from python-dateutil>=2.8.2->pandas->llama-index-core==0.10.44->llama-index) (1.16.0)\n",
            "Installing collected packages: striprtf, dirtyjson, pypdf, mypy-extensions, marshmallow, h11, deprecated, typing-inspect, tiktoken, httpcore, httpx, dataclasses-json, openai, llamaindex-py-client, llama-index-legacy, llama-index-core, llama-parse, llama-index-readers-file, llama-index-llms-openai, llama-index-indices-managed-llama-cloud, llama-index-embeddings-openai, llama-index-readers-llama-parse, llama-index-multi-modal-llms-openai, llama-index-cli, llama-index-agent-openai, llama-index-program-openai, llama-index-question-gen-openai, llama-index\n",
            "Successfully installed dataclasses-json-0.6.7 deprecated-1.2.14 dirtyjson-1.0.8 h11-0.14.0 httpcore-1.0.5 httpx-0.27.0 llama-index-0.10.44 llama-index-agent-openai-0.2.7 llama-index-cli-0.1.12 llama-index-core-0.10.44 llama-index-embeddings-openai-0.1.10 llama-index-indices-managed-llama-cloud-0.1.6 llama-index-legacy-0.9.48 llama-index-llms-openai-0.1.22 llama-index-multi-modal-llms-openai-0.1.6 llama-index-program-openai-0.1.6 llama-index-question-gen-openai-0.1.3 llama-index-readers-file-0.1.25 llama-index-readers-llama-parse-0.1.4 llama-parse-0.4.4 llamaindex-py-client-0.1.19 marshmallow-3.21.3 mypy-extensions-1.0.0 openai-1.34.0 pypdf-4.2.0 striprtf-0.0.26 tiktoken-0.7.0 typing-inspect-0.9.0\n"
          ]
        }
      ],
      "source": [
        "!pip install llama-index"
      ]
    },
    {
      "cell_type": "code",
      "execution_count": 3,
      "id": "4d97d35f",
      "metadata": {
        "id": "4d97d35f"
      },
      "outputs": [],
      "source": [
        "import os\n",
        "\n",
        "os.environ[\"OPENAI_API_KEY\"] = \"\"\n",
        "\n",
        "import nest_asyncio\n",
        "\n",
        "nest_asyncio.apply()"
      ]
    },
    {
      "cell_type": "code",
      "execution_count": 4,
      "id": "c3675b87-4d08-4f59-a971-48bf67c66ad0",
      "metadata": {
        "id": "c3675b87-4d08-4f59-a971-48bf67c66ad0"
      },
      "outputs": [],
      "source": [
        "from llama_index.core import VectorStoreIndex, SimpleDirectoryReader\n",
        "from llama_index.core.tools import QueryEngineTool, ToolMetadata\n",
        "from llama_index.core.query_engine import SubQuestionQueryEngine\n",
        "from llama_index.core.callbacks import CallbackManager, LlamaDebugHandler\n",
        "from llama_index.core import Settings"
      ]
    },
    {
      "cell_type": "code",
      "execution_count": 5,
      "id": "2b95fb5b",
      "metadata": {
        "id": "2b95fb5b"
      },
      "outputs": [],
      "source": [
        "# Using the LlamaDebugHandler to print the trace of the sub questions\n",
        "# captured by the SUB_QUESTION callback event type\n",
        "llama_debug = LlamaDebugHandler(print_trace_on_end=True)\n",
        "callback_manager = CallbackManager([llama_debug])\n",
        "\n",
        "Settings.callback_manager = callback_manager"
      ]
    },
    {
      "cell_type": "code",
      "source": [
        "!unzip /content/HowToPlayWeiss.zip"
      ],
      "metadata": {
        "colab": {
          "base_uri": "https://localhost:8080/"
        },
        "id": "_r7UwjzawCMB",
        "outputId": "bd0d3739-9042-4c7c-d40e-8eeea43caa47"
      },
      "id": "_r7UwjzawCMB",
      "execution_count": 24,
      "outputs": [
        {
          "output_type": "stream",
          "name": "stdout",
          "text": [
            "Archive:  /content/HowToPlayWeiss.zip\n",
            "  inflating: HowToPlayWeiss/5HY_QuintsExampleItsuki_AI.txt  \n",
            "  inflating: HowToPlayWeiss/BeginnersGuideToCreatingADeck.txt  \n",
            "  inflating: HowToPlayWeiss/gameplay.txt  \n",
            "  inflating: HowToPlayWeiss/GuideToPlayingAndPlayingAgainstMushokuTensei.txt  \n",
            "  inflating: HowToPlayWeiss/HOL_HololiveGura_AI.txt  \n",
            "  inflating: HowToPlayWeiss/Hololive Set 1 Cards HOL-xxx.txt  \n",
            "  inflating: HowToPlayWeiss/MTI_MushokuTenseiExampleAI.txt  \n",
            "   creating: HowToPlayWeiss/MTI_MushokuTenseiSet/\n",
            "  inflating: HowToPlayWeiss/MTI_MushokuTenseiSet/MTI_S83-001_Magical_Talent_Rudeus.txt  \n",
            "  inflating: HowToPlayWeiss/MTI_MushokuTenseiSet/MTI_S83-002_Live_Seriously_Rudeus.txt  \n",
            "  inflating: HowToPlayWeiss/MTI_MushokuTenseiSet/MTI_S83-003_In_the_Sunlight_Rudeus.txt  \n",
            "  inflating: HowToPlayWeiss/MTI_MushokuTenseiSet/MTI_S83-004_Adventuring_Party_Dead_End_Rudeus.txt  \n",
            "  inflating: HowToPlayWeiss/MTI_MushokuTenseiSet/MTI_S83-005_Daily_Growth_Rudeus.txt  \n",
            "  inflating: HowToPlayWeiss/MTI_MushokuTenseiSet/MTI_S83-006_Words_of_Encouragement_Rudeus.txt  \n",
            "  inflating: HowToPlayWeiss/MTI_MushokuTenseiSet/MTI_S83-007_Starting_Line_of_Life_Rudeus.txt  \n",
            "  inflating: HowToPlayWeiss/MTI_MushokuTenseiSet/MTI_S83-008_Brave_Boy_Rudeus.txt  \n",
            "  inflating: HowToPlayWeiss/MTI_MushokuTenseiSet/MTI_S83-009_Childish_Things_Rudeus.txt  \n",
            "  inflating: HowToPlayWeiss/MTI_MushokuTenseiSet/MTI_S83-010_Genius_Swordfighter_Paul.txt  \n",
            "  inflating: HowToPlayWeiss/MTI_MushokuTenseiSet/MTI_S83-011_Companion_Rudeus.txt  \n",
            "  inflating: HowToPlayWeiss/MTI_MushokuTenseiSet/MTI_S83-012_Open-Hearted_Lilia.txt  \n",
            "  inflating: HowToPlayWeiss/MTI_MushokuTenseiSet/MTI_S83-013_Reaching_Out_Rudeus.txt  \n",
            "  inflating: HowToPlayWeiss/MTI_MushokuTenseiSet/MTI_S83-014_Aisha_&_Norn.txt  \n",
            "  inflating: HowToPlayWeiss/MTI_MushokuTenseiSet/MTI_S83-015_Lifegiving_Zenith.txt  \n",
            "  inflating: HowToPlayWeiss/MTI_MushokuTenseiSet/MTI_S83-016_Object_of_Worship.txt  \n",
            "  inflating: HowToPlayWeiss/MTI_MushokuTenseiSet/MTI_S83-017a_Figure_Making.txt  \n",
            "  inflating: HowToPlayWeiss/MTI_MushokuTenseiSet/MTI_S83-018_Man-God.txt  \n",
            "  inflating: HowToPlayWeiss/MTI_MushokuTenseiSet/MTI_S83-019_Aqua_Heartia.txt  \n",
            "  inflating: HowToPlayWeiss/MTI_MushokuTenseiSet/MTI_S83-020_Little_Mage.txt  \n",
            "  inflating: HowToPlayWeiss/MTI_MushokuTenseiSet/MTI_S83-021_Childhood_Friend_Sylphiette.txt  \n",
            "  inflating: HowToPlayWeiss/MTI_MushokuTenseiSet/MTI_S83-022_Innocent_Heart_Sylphiette.txt  \n",
            "  inflating: HowToPlayWeiss/MTI_MushokuTenseiSet/MTI_S83-023_Superd_Warrior_Ruijerd.txt  \n",
            "  inflating: HowToPlayWeiss/MTI_MushokuTenseiSet/MTI_S83-024_Angel_s_Rest_Sylphiette.txt  \n",
            "  inflating: HowToPlayWeiss/MTI_MushokuTenseiSet/MTI_S83-025_Forehead_Eye_Ruijerd.txt  \n",
            "  inflating: HowToPlayWeiss/MTI_MushokuTenseiSet/MTI_S83-026_Adventuring_Party_Dead_End_Ruijerd.txt  \n",
            "  inflating: HowToPlayWeiss/MTI_MushokuTenseiSet/MTI_S83-027_My_Childhood_Friend_Sylphiette.txt  \n",
            "  inflating: HowToPlayWeiss/MTI_MushokuTenseiSet/MTI_S83-028_Combat_Readiness_Ruijerd.txt  \n",
            "  inflating: HowToPlayWeiss/MTI_MushokuTenseiSet/MTI_S83-029_Quarter_Elf_Girl_Sylphiette.txt  \n",
            "  inflating: HowToPlayWeiss/MTI_MushokuTenseiSet/MTI_S83-030_Pretty_Boy_Sylphiette.txt  \n",
            "  inflating: HowToPlayWeiss/MTI_MushokuTenseiSet/MTI_S83-031_Adventurer_s_Guild_Receptionist.txt  \n",
            "  inflating: HowToPlayWeiss/MTI_MushokuTenseiSet/MTI_S83-032a_Tokurabu_Village_Toughs.txt  \n",
            "  inflating: HowToPlayWeiss/MTI_MushokuTenseiSet/MTI_S83-033a_P-Hunters.txt  \n",
            "  inflating: HowToPlayWeiss/MTI_MushokuTenseiSet/MTI_S83-034_Mastering_Magic_Sylphiette.txt  \n",
            "  inflating: HowToPlayWeiss/MTI_MushokuTenseiSet/MTI_S83-035_Shining_Eyes_Sylphiette.txt  \n",
            "  inflating: HowToPlayWeiss/MTI_MushokuTenseiSet/MTI_S83-036_Awesome_Tribe_Ruijerd.txt  \n",
            "  inflating: HowToPlayWeiss/MTI_MushokuTenseiSet/MTI_S83-037_Nokopara.txt  \n",
            "  inflating: HowToPlayWeiss/MTI_MushokuTenseiSet/MTI_S83-038_Overflowing_Tears_Sylphiette.txt  \n",
            "  inflating: HowToPlayWeiss/MTI_MushokuTenseiSet/MTI_S83-039_Time_for_Just_Us_Two_Sylphiette.txt  \n",
            "  inflating: HowToPlayWeiss/MTI_MushokuTenseiSet/MTI_S83-040_Companion_Sylphiette.txt  \n",
            "  inflating: HowToPlayWeiss/MTI_MushokuTenseiSet/MTI_S83-041_Passionate_Resentment_Ruijerd.txt  \n",
            "  inflating: HowToPlayWeiss/MTI_MushokuTenseiSet/MTI_S83-042_Studying_with_Rudy_Sylphiette.txt  \n",
            "  inflating: HowToPlayWeiss/MTI_MushokuTenseiSet/MTI_S83-043_In_the_Sunlight_Sylphiette.txt  \n",
            "  inflating: HowToPlayWeiss/MTI_MushokuTenseiSet/MTI_S83-044_Injured_Pride_Ruijerd.txt  \n",
            "  inflating: HowToPlayWeiss/MTI_MushokuTenseiSet/MTI_S83-045_Soul_of_a_Superd.txt  \n",
            "  inflating: HowToPlayWeiss/MTI_MushokuTenseiSet/MTI_S83-046_Sylph.txt  \n",
            "  inflating: HowToPlayWeiss/MTI_MushokuTenseiSet/MTI_S83-047_Smile_You_Gave_Me.txt  \n",
            "  inflating: HowToPlayWeiss/MTI_MushokuTenseiSet/MTI_S83-048_Dead_End.txt  \n",
            "  inflating: HowToPlayWeiss/MTI_MushokuTenseiSet/MTI_S83-049_Future_Mage.txt  \n",
            "  inflating: HowToPlayWeiss/MTI_MushokuTenseiSet/MTI_S83-050_Children_and_Warrior.txt  \n",
            "  inflating: HowToPlayWeiss/MTI_MushokuTenseiSet/MTI_S83-051_Beautiful_Swordfighter_Eris.txt  \n",
            "  inflating: HowToPlayWeiss/MTI_MushokuTenseiSet/MTI_S83-052_Ferocious_Tsundere_Lady_Eris.txt  \n",
            "  inflating: HowToPlayWeiss/MTI_MushokuTenseiSet/MTI_S83-053_Strong_Female_Swordfighter_Ghislane.txt  \n",
            "  inflating: HowToPlayWeiss/MTI_MushokuTenseiSet/MTI_S83-054_Bewitching_Invitation_Eris.txt  \n",
            "  inflating: HowToPlayWeiss/MTI_MushokuTenseiSet/MTI_S83-055_Swordsmanship_Ghislane.txt  \n",
            "  inflating: HowToPlayWeiss/MTI_MushokuTenseiSet/MTI_S83-056_Sword_God_Style_Ghislane.txt  \n",
            "  inflating: HowToPlayWeiss/MTI_MushokuTenseiSet/MTI_S83-057_Strong_Body_Ghislane.txt  \n",
            "  inflating: HowToPlayWeiss/MTI_MushokuTenseiSet/MTI_S83-058_Daughter_of_the_Boreas_Family_Eris.txt  \n",
            "  inflating: HowToPlayWeiss/MTI_MushokuTenseiSet/MTI_S83-059_Strength_Hidden_Inside_Eris.txt  \n",
            "  inflating: HowToPlayWeiss/MTI_MushokuTenseiSet/MTI_S83-060_Adventuring_Party_Dead_End_Eris.txt  \n",
            "  inflating: HowToPlayWeiss/MTI_MushokuTenseiSet/MTI_S83-061_Angelic_Sleeping_Face_Eris.txt  \n",
            "  inflating: HowToPlayWeiss/MTI_MushokuTenseiSet/MTI_S83-062_Mastering_Magic_Eris.txt  \n",
            "  inflating: HowToPlayWeiss/MTI_MushokuTenseiSet/MTI_S83-063_Boreas_Family_Bodyguard_Ghislane.txt  \n",
            "  inflating: HowToPlayWeiss/MTI_MushokuTenseiSet/MTI_S83-064_Beast_Tribe_Ghislane.txt  \n",
            "  inflating: HowToPlayWeiss/MTI_MushokuTenseiSet/MTI_S83-065_Phillip_Boreas_Greyrat.txt  \n",
            "  inflating: HowToPlayWeiss/MTI_MushokuTenseiSet/MTI_S83-066_Sauros_Boreas_Greyrat.txt  \n",
            "  inflating: HowToPlayWeiss/MTI_MushokuTenseiSet/MTI_S83-067a_Boreas_Beastperson_Maid.txt  \n",
            "  inflating: HowToPlayWeiss/MTI_MushokuTenseiSet/MTI_S83-068_Hilda_Boreas_Greyrat.txt  \n",
            "  inflating: HowToPlayWeiss/MTI_MushokuTenseiSet/MTI_S83-069_Study_Time_Eris.txt  \n",
            "  inflating: HowToPlayWeiss/MTI_MushokuTenseiSet/MTI_S83-070_Mastering_Magic_Ghislane.txt  \n",
            "  inflating: HowToPlayWeiss/MTI_MushokuTenseiSet/MTI_S83-071_Clear_Look_Eris.txt  \n",
            "  inflating: HowToPlayWeiss/MTI_MushokuTenseiSet/MTI_S83-072_What_Lies_Beyond_Effort_Eris.txt  \n",
            "  inflating: HowToPlayWeiss/MTI_MushokuTenseiSet/MTI_S83-073_Costume_for_Horses_Eris.txt  \n",
            "  inflating: HowToPlayWeiss/MTI_MushokuTenseiSet/MTI_S83-074_Insolence_Eris.txt  \n",
            "  inflating: HowToPlayWeiss/MTI_MushokuTenseiSet/MTI_S83-075_Fangs_of_the_Black_Wolf.txt  \n",
            "  inflating: HowToPlayWeiss/MTI_MushokuTenseiSet/MTI_S83-076_Money_Can_t_Buy_Dere!.txt  \n",
            "  inflating: HowToPlayWeiss/MTI_MushokuTenseiSet/MTI_S83-077_Eris_Apology.txt  \n",
            "  inflating: HowToPlayWeiss/MTI_MushokuTenseiSet/MTI_S83-078_Right_Eye_of_the_Demon.txt  \n",
            "  inflating: HowToPlayWeiss/MTI_MushokuTenseiSet/MTI_S83-079_Special.txt  \n",
            "  inflating: HowToPlayWeiss/MTI_MushokuTenseiSet/MTI_S83-080_Sword_King_Ghislane.txt  \n",
            "  inflating: HowToPlayWeiss/MTI_MushokuTenseiSet/MTI_S83-081_What_You_Can_Offer_Roxy.txt  \n",
            "  inflating: HowToPlayWeiss/MTI_MushokuTenseiSet/MTI_S83-082_Warm_Look_Roxy.txt  \n",
            "  inflating: HowToPlayWeiss/MTI_MushokuTenseiSet/MTI_S83-083_Emerging_Sigh_Roxy.txt  \n",
            "  inflating: HowToPlayWeiss/MTI_MushokuTenseiSet/MTI_S83-084_Leading_to_the_Future_Roxy.txt  \n",
            "  inflating: HowToPlayWeiss/MTI_MushokuTenseiSet/MTI_S83-085_Learning_to_Cook_Roxy.txt  \n",
            "  inflating: HowToPlayWeiss/MTI_MushokuTenseiSet/MTI_S83-086_In_the_Sunlight_Roxy.txt  \n",
            "  inflating: HowToPlayWeiss/MTI_MushokuTenseiSet/MTI_S83-087_Migurd_Mage_Roxy.txt  \n",
            "  inflating: HowToPlayWeiss/MTI_MushokuTenseiSet/MTI_S83-088_Accumulating_Letters_Roxy.txt  \n",
            "  inflating: HowToPlayWeiss/MTI_MushokuTenseiSet/MTI_S83-089_Arumanfi_the_Bright.txt  \n",
            "  inflating: HowToPlayWeiss/MTI_MushokuTenseiSet/MTI_S83-090_Pax_Shirone.txt  \n",
            "  inflating: HowToPlayWeiss/MTI_MushokuTenseiSet/MTI_S83-091_Rudy_s_Tutor_Roxy.txt  \n",
            "  inflating: HowToPlayWeiss/MTI_MushokuTenseiSet/MTI_S83-092_Kishirika_Kishirisu.txt  \n",
            "  inflating: HowToPlayWeiss/MTI_MushokuTenseiSet/MTI_S83-093_Mean_Smile_Roxy.txt  \n",
            "  inflating: HowToPlayWeiss/MTI_MushokuTenseiSet/MTI_S83-094_Rokari_Migurdia.txt  \n",
            "  inflating: HowToPlayWeiss/MTI_MushokuTenseiSet/MTI_S83-095_Rowin_Migurdia.txt  \n",
            "  inflating: HowToPlayWeiss/MTI_MushokuTenseiSet/MTI_S83-096_Orsted.txt  \n",
            "  inflating: HowToPlayWeiss/MTI_MushokuTenseiSet/MTI_S83-097_Recoiling_in_Disgust_Roxy.txt  \n",
            "  inflating: HowToPlayWeiss/MTI_MushokuTenseiSet/MTI_S83-098_Amulet_of_the_Migurd_Tribe.txt  \n",
            "  inflating: HowToPlayWeiss/MTI_MushokuTenseiSet/MTI_S83-099_Blessing.txt  \n",
            "  inflating: HowToPlayWeiss/MTI_MushokuTenseiSet/MTI_S83-100_Cumulonimbus.txt  \n",
            "  inflating: HowToPlayWeiss/MTI_MushokuTenseiSet/MTI_S83-101_Rudeus_Greyrat.txt  \n",
            "  inflating: HowToPlayWeiss/MTI_MushokuTenseiSet/MTI_S83-102_Sylphiette.txt  \n",
            "  inflating: HowToPlayWeiss/MTI_MushokuTenseiSet/MTI_S83-103_Ghislane_Dedoldia.txt  \n",
            "  inflating: HowToPlayWeiss/MTI_MushokuTenseiSet/MTI_S83-104_Eris_Boreas_Greyrat.txt  \n",
            "  inflating: HowToPlayWeiss/MTI_MushokuTenseiSet/MTI_S83-105_Roxy_Migurdia.txt  \n",
            "  inflating: HowToPlayWeiss/MTI_MushokuTenseiSet/MTI_S83-T01_================================================================================.txt  \n",
            "  inflating: HowToPlayWeiss/MTI_MushokuTenseiSet/MTI_S83-T01_Good_Wife,_Wise_Mother_Zenith.txt  \n",
            "  inflating: HowToPlayWeiss/MTI_MushokuTenseiSet/MTI_S83-T02_Graduation_Exam_Rudeus.txt  \n",
            "  inflating: HowToPlayWeiss/MTI_MushokuTenseiSet/MTI_S83-T03_Paul_Greyrat.txt  \n",
            "  inflating: HowToPlayWeiss/MTI_MushokuTenseiSet/MTI_S83-T04_Zenith_Greyrat.txt  \n",
            "  inflating: HowToPlayWeiss/MTI_MushokuTenseiSet/MTI_S83-T05_Lillia_Greyrat.txt  \n",
            "  inflating: HowToPlayWeiss/MTI_MushokuTenseiSet/MTI_S83-T06_Jobless_Reincarnation_Rudeus.txt  \n",
            "  inflating: HowToPlayWeiss/MTI_MushokuTenseiSet/MTI_S83-T07_Beginning_of_a_New_Life_Rudeus.txt  \n",
            "  inflating: HowToPlayWeiss/MTI_MushokuTenseiSet/MTI_S83-T08_Mastering_Magic_Rudeus.txt  \n",
            "  inflating: HowToPlayWeiss/MTI_MushokuTenseiSet/MTI_S83-T09_Sword_Training_Paul.txt  \n",
            "  inflating: HowToPlayWeiss/MTI_MushokuTenseiSet/MTI_S83-T10_Chanting_Rudeus.txt  \n",
            "  inflating: HowToPlayWeiss/MTI_MushokuTenseiSet/MTI_S83-T11_Trauma_From_a_Past_Life.txt  \n",
            "  inflating: HowToPlayWeiss/MTI_MushokuTenseiSet/MTI_S83-T12_From_Master_to_Disciple.txt  \n",
            "  inflating: HowToPlayWeiss/MTI_MushokuTenseiSet/MTI_S83-T13_Within_the_Flowing_Days.txt  \n",
            "  inflating: HowToPlayWeiss/MTI_MushokuTenseiSet/MTI_S83-T14_Loli,_Staring_Eyes,_Unfriendly_Roxy.txt  \n",
            "  inflating: HowToPlayWeiss/MTI_MushokuTenseiSet/MTI_S83-T15_Demon_Roxy.txt  \n",
            "  inflating: HowToPlayWeiss/MTI_MushokuTenseiSet/MTI_S83-T16_Depressing_Feelings_Roxy.txt  \n",
            "  inflating: HowToPlayWeiss/MTI_MushokuTenseiSet/MTI_S83-T17_Welcome_Party_Roxy.txt  \n",
            "  inflating: HowToPlayWeiss/MTI_MushokuTenseiSet/MTI_S83-T18_Unexpected_Failure_Roxy.txt  \n",
            "  inflating: HowToPlayWeiss/MTI_MushokuTenseiSet/MTI_S83-T19_Chanting_Roxy.txt  \n",
            "  inflating: HowToPlayWeiss/MTI_MushokuTenseiSet/MTI_S83-T20_Little_Master.txt  \n",
            "  inflating: HowToPlayWeiss/MushokuTenseiCards.txt  \n",
            "  inflating: HowToPlayWeiss/Official Comprehensive Rules.txt  \n",
            "  inflating: HowToPlayWeiss/OVL_OverlordExampleAIAinz_AI.txt  \n",
            "  inflating: HowToPlayWeiss/TranscripOfYoutubeVideoOnSequencing.txt  \n",
            "  inflating: HowToPlayWeiss/TranscriptOfYoutubeVideoOnCompressionAndClimaxesInDeck.txt  \n",
            "  inflating: HowToPlayWeiss/TranscriptOfYoutubeVideoOnHowToPlay.txt  \n",
            "  inflating: HowToPlayWeiss/TranscriptOfYoutubeVideoOnHowToPlayGood.txt  \n",
            "  inflating: HowToPlayWeiss/Weiс Schwarz Finisher SimulationsStats.csv  \n"
          ]
        }
      ]
    },
    {
      "cell_type": "code",
      "execution_count": 25,
      "id": "22b8b519-dd95-4dfb-9cdc-cb0004852036",
      "metadata": {
        "id": "22b8b519-dd95-4dfb-9cdc-cb0004852036",
        "outputId": "e344aac3-7a3e-41c0-8025-9cf96d8218e8",
        "colab": {
          "base_uri": "https://localhost:8080/"
        }
      },
      "outputs": [
        {
          "output_type": "stream",
          "name": "stdout",
          "text": [
            "**********\n",
            "Trace: index_construction\n",
            "    |_node_parsing -> 0.899646 seconds\n",
            "      |_chunking -> 0.016252 seconds\n",
            "      |_chunking -> 0.005318 seconds\n",
            "      |_chunking -> 0.021566 seconds\n",
            "      |_chunking -> 0.014214 seconds\n",
            "      |_chunking -> 0.16931 seconds\n",
            "      |_chunking -> 0.029051 seconds\n",
            "      |_chunking -> 0.015897 seconds\n",
            "      |_chunking -> 0.013396 seconds\n",
            "      |_chunking -> 0.085253 seconds\n",
            "      |_chunking -> 0.02457 seconds\n",
            "      |_chunking -> 0.055943 seconds\n",
            "      |_chunking -> 0.033603 seconds\n",
            "      |_chunking -> 0.022067 seconds\n",
            "      |_chunking -> 0.320901 seconds\n",
            "      |_chunking -> 0.007108 seconds\n",
            "    |_embedding -> 3.295832 seconds\n",
            "    |_embedding -> 3.560258 seconds\n",
            "    |_embedding -> 3.712632 seconds\n",
            "**********\n"
          ]
        }
      ],
      "source": [
        "# load data\n",
        "humberviewbook = SimpleDirectoryReader(input_dir=\"./HowToPlayWeiss/\").load_data()\n",
        "\n",
        "# build index and query engine\n",
        "vector_query_engine = VectorStoreIndex.from_documents(\n",
        "    humberviewbook,\n",
        "    use_async=True,\n",
        ").as_query_engine()"
      ]
    },
    {
      "cell_type": "markdown",
      "id": "484cb516-6692-4d07-9bd8-93941909b459",
      "metadata": {
        "id": "484cb516-6692-4d07-9bd8-93941909b459"
      },
      "source": [
        "### Setup sub question query engine"
      ]
    },
    {
      "cell_type": "code",
      "execution_count": 63,
      "id": "dbff0cbd-9a1a-4acc-9870-03d05640125c",
      "metadata": {
        "id": "dbff0cbd-9a1a-4acc-9870-03d05640125c"
      },
      "outputs": [],
      "source": [
        "# setup base query engine as tool\n",
        "query_engine_tools = [\n",
        "    QueryEngineTool(\n",
        "        query_engine=vector_query_engine,\n",
        "        metadata=ToolMetadata(\n",
        "            name=\"WeissPlayer\",\n",
        "            description=\"Helps decide how to play weiss schawrz decks to win\",\n",
        "        ),\n",
        "    ),\n",
        "]\n",
        "\n",
        "query_engine = SubQuestionQueryEngine.from_defaults(\n",
        "    query_engine_tools=query_engine_tools,\n",
        "    use_async=True,\n",
        ")"
      ]
    },
    {
      "cell_type": "code",
      "source": [
        "promptHeader = \"Header. Sections are \\n ColorPriority: three colors out of (Red, Blue, Green, Yellow) ordered in order of level priority, where the first is what you want to level for level 1, then second for level 2, then third for level 3. Consider that to play a climax or level 1+ card you need the color in your level or clock, so if you have a cxcombo on a level 1 card level that color first and if you have a cxcombo on a level 3 card level that by level 2 or 3 \""
      ],
      "metadata": {
        "id": "Py2l1oeKQA9a"
      },
      "id": "Py2l1oeKQA9a",
      "execution_count": 64,
      "outputs": []
    },
    {
      "cell_type": "markdown",
      "id": "eeea8e15-78ab-4f72-a380-1a76bb5d5737",
      "metadata": {
        "id": "eeea8e15-78ab-4f72-a380-1a76bb5d5737"
      },
      "source": [
        "### Run queries"
      ]
    },
    {
      "cell_type": "code",
      "source": [
        "def ask_weiss_schwarz_question(query_engine,decklist,series,query,starter):\n",
        "    response = query_engine.query(\n",
        "        f\"\"\"{starter}{query}\n",
        "        \"\"\"\n",
        "    )\n",
        "    print(response)"
      ],
      "metadata": {
        "id": "wGmx37lbwxSd"
      },
      "id": "wGmx37lbwxSd",
      "execution_count": 103,
      "outputs": []
    },
    {
      "cell_type": "code",
      "source": [
        "ask_weiss_schwarz_question(query_engine,decklist,series,\"\",\"which cards in the decklist are leve 3\")"
      ],
      "metadata": {
        "colab": {
          "base_uri": "https://localhost:8080/"
        },
        "id": "JCG4SSSGTKbi",
        "outputId": "f4c670c9-5809-49ca-c91a-1c29fc945a1c"
      },
      "id": "JCG4SSSGTKbi",
      "execution_count": 104,
      "outputs": [
        {
          "output_type": "stream",
          "name": "stdout",
          "text": [
            "Generated 1 sub questions.\n",
            "\u001b[1;3;38;2;237;90;200m[WeissPlayer] Q: What are the level 3 cards in the decklist?\n",
            "\u001b[0m\u001b[1;3;38;2;237;90;200m[WeissPlayer] A: The level 3 cards in the decklist are not explicitly mentioned in the provided context information.\n",
            "\u001b[0m**********\n",
            "Trace: query\n",
            "    |_query -> 5.224522 seconds\n",
            "      |_llm -> 2.486996 seconds\n",
            "      |_sub_question -> 1.71689 seconds\n",
            "        |_query -> 1.716072 seconds\n",
            "          |_retrieve -> 0.865906 seconds\n",
            "            |_embedding -> 0.836344 seconds\n",
            "          |_synthesize -> 0.84914 seconds\n",
            "            |_templating -> 2.8e-05 seconds\n",
            "            |_llm -> 0.839841 seconds\n",
            "      |_synthesize -> 1.016987 seconds\n",
            "        |_templating -> 2.7e-05 seconds\n",
            "        |_llm -> 1.012992 seconds\n",
            "**********\n",
            "The level 3 cards in the decklist are not explicitly mentioned in the provided context information.\n"
          ]
        }
      ]
    },
    {
      "cell_type": "code",
      "source": [
        "decklist = \"\"\"\n",
        "    MTI/S83-E101\n",
        "MTI/S83-E025\n",
        "MTI/S83-E025\n",
        "MTI/S83-E025\n",
        "MTI/S83-E054\n",
        "MTI/S83-E054\n",
        "MTI/S83-E054\n",
        "MTI/S83-E054\n",
        "MTI/S83-E083\n",
        "MTI/S83-E083\n",
        "MTI/S83-E083\n",
        "MTI/S83-E083\n",
        "MTI/S83-TE14\n",
        "MTI/S83-TE14\n",
        "MTI/S83-E081\n",
        "MTI/S83-E081\n",
        "MTI/S83-E081\n",
        "MTI/S83-E081\n",
        "MTI/S83-E055S\n",
        "MTI/S83-E055S\n",
        "MTI/S83-E052\n",
        "MTI/S83-E052\n",
        "MTI/S83-E052\n",
        "MTI/S83-E052\n",
        "MTI/S83-E084\n",
        "MTI/S83-E084\n",
        "MTI/S83-E098\n",
        "MTI/S83-E098\n",
        "MTI/S83-E098\n",
        "MTI/S83-E057\n",
        "MTI/S83-E057\n",
        "MTI/S83-E056\n",
        "MTI/S83-E010\n",
        "MTI/S83-E058S\n",
        "MTI/S83-E058S\n",
        "MTI/S83-E058S\n",
        "MTI/S83-E087S\n",
        "MTI/S83-E087S\n",
        "MTI/S83-E082\n",
        "MTI/S83-E082\n",
        "MTI/S83-E082\n",
        "MTI/S83-E082\n",
        "MTI/S83-E077\n",
        "MTI/S83-E077\n",
        "MTI/S83-E077\n",
        "MTI/S83-E077\n",
        "MTI/S83-E099R\n",
        "MTI/S83-E099R\n",
        "MTI/S83-E099\n",
        "MTI/S83-E099\n",
        "    \"\"\"\n",
        "\n",
        "series = \"Mushoku Tensei(MTI)\"\n",
        "color = \"Header. Sections are \\n ColorPriority: three colors out of (Red, Blue, Green, Yellow) ordered in order of level priority, where the first is what you want to level for level 1, then second for level 2, then third for level 3. Consider that to play a climax or level 1+ card you need the color in your level or clock, so if you have a cxcombo on a level 1 card level that color first and if you have a cxcombo on a level 3 card level that by level 2 or 3 \"\n",
        "goingfirstatt = \"\"\"GoingFirstAttacker section. as many lines as needed for matted as priority([number])[card name]. This the hardcoded priority levels for cards you can play on the first turn. Give cards that are\n",
        "good to play on your first turn on the game a high priority number, like 500 and if a card should not be played then give it a negative value like -200. make sure all cards are level 0 and in the deck. Here is an example for set hololive\n",
        "\n",
        "Section GoingFirst_Attacker\n",
        "//good card to play at level 0\n",
        "Priority(500) [Famous Detective, Watson Amelia]\n",
        "Priority(-200) [A Step Towards the Future, AZKi] && Not Have(1,[A Step Towards the Future, AZKi])\n",
        "//Don't play your only climax swapper turn 1 if you don't already have the right climax\n",
        "Priority(-100) [Time Just for the Two, Pavolia Reine] && Not Have(1,[REPEAT THiS LiFE WiTH U]) && Not Have(1,[Time Just for the Two, Pavolia Reine])\n",
        "\n",
        "Put at least 3 entries\n",
        "\"\"\"\n",
        "starter = f\"\"\"You are an expert weiss schwarz player. I will be asking you to script sections of code for a custom ai for a simulator, the format needed will be provided. When deciding on things\n",
        "        consider what is the best choice to win the game, taking into consideration every card in the deck and their interactions. You will be coding a rule-based ai for one specific deck form series {series}, here is the deck: {decklist}.\n",
        "        You have access to the color, level, soul, and effects of each card in the deck. DECISIONS ARE ONLY BASED ON CARDS IN THE DECK MAKE SURE THE CARDS ARE IN THE DECKLIST. consider them when making decisions. ask many questions, as many as needed. make a full confident answer that will best increase chances of winning.\n",
        "        Please code the \"\"\""
      ],
      "metadata": {
        "id": "J1FNujdHYIEi"
      },
      "id": "J1FNujdHYIEi",
      "execution_count": 100,
      "outputs": []
    },
    {
      "cell_type": "code",
      "source": [],
      "metadata": {
        "id": "PxCAh2jkauS7"
      },
      "id": "PxCAh2jkauS7",
      "execution_count": null,
      "outputs": []
    }
  ],
  "metadata": {
    "kernelspec": {
      "display_name": "Python 3 (ipykernel)",
      "language": "python",
      "name": "python3"
    },
    "language_info": {
      "codemirror_mode": {
        "name": "ipython",
        "version": 3
      },
      "file_extension": ".py",
      "mimetype": "text/x-python",
      "name": "python",
      "nbconvert_exporter": "python",
      "pygments_lexer": "ipython3"
    },
    "colab": {
      "provenance": []
    }
  },
  "nbformat": 4,
  "nbformat_minor": 5
}
